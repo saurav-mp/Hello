{
 "cells": [
  {
   "cell_type": "markdown",
   "id": "15c6a15e",
   "metadata": {},
   "source": [
    "# PYTHON Data Structures LAB 4 : 14/03/22\n",
    "Saurav Mahendra Prasad<br>"
   ]
  },
  {
   "cell_type": "markdown",
   "id": "c95cc023",
   "metadata": {},
   "source": [
    "# INSERTION SORT\n",
    "\n",
    "Inspired code from sir's code and from the internet too"
   ]
  },
  {
   "cell_type": "code",
   "execution_count": 16,
   "id": "f26f194a",
   "metadata": {},
   "outputs": [],
   "source": [
    "def insertionSort(arr):\n",
    "    for i in range(1, len(arr)):\n",
    "\n",
    "        t = arr[i]\n",
    "        j = i-1\n",
    "        while j >= 0 and t < arr[j] :\n",
    "                arr[j + 1] = arr[j]\n",
    "                j -= 1\n",
    "        arr[j + 1] = t"
   ]
  },
  {
   "cell_type": "code",
   "execution_count": 21,
   "id": "12943684",
   "metadata": {},
   "outputs": [
    {
     "name": "stdout",
     "output_type": "stream",
     "text": [
      "Enter array element: 86\n",
      "Enter array element: 28\n",
      "Enter array element: 30\n",
      "Enter array element: 1\n",
      "Enter array element: 75\n",
      "Enter array element: 76\n",
      "Enter array element: 91\n",
      "Enter array element: 92\n",
      "Enter array element: 45\n",
      "Enter array element: 96\n",
      "\n",
      "Sorted Array:\n",
      "\n",
      "1 28 30 45 75 76 86 91 92 96 "
     ]
    }
   ],
   "source": [
    "arr =[]\n",
    "for i in range(10):\n",
    "    n = int(input(\"Enter array element: \"))\n",
    "    arr.append(n)\n",
    "insertionSort(arr)\n",
    "print(\"\\nSorted Array:\\n\")\n",
    "for i in range(len(arr)):\n",
    "    print (arr[i],end=\" \")"
   ]
  },
  {
   "cell_type": "markdown",
   "id": "3dd14764",
   "metadata": {},
   "source": [
    "# MERGE SORT\n",
    "Inspired from the internet"
   ]
  },
  {
   "cell_type": "code",
   "execution_count": 4,
   "id": "6441e2ff",
   "metadata": {},
   "outputs": [],
   "source": [
    "def mergeSort(arr):\n",
    "    if len(arr) > 1:\n",
    "        mid = len(arr)//2\n",
    "\n",
    "        L = arr[:mid]\n",
    "\n",
    "        R = arr[mid:]\n",
    "\n",
    "        mergeSort(L)\n",
    "\n",
    "        mergeSort(R)\n",
    "\n",
    "        i = j = k = 0\n",
    "\n",
    "        while i < len(L) and j < len(R):\n",
    "            if L[i] < R[j]:\n",
    "                arr[k] = L[i]\n",
    "                i += 1\n",
    "            else:\n",
    "                arr[k] = R[j]\n",
    "                j += 1\n",
    "            k += 1\n",
    "\n",
    "        while i < len(L):\n",
    "            arr[k] = L[i]\n",
    "            i += 1\n",
    "            k += 1\n",
    "\n",
    "        while j < len(R):\n",
    "            arr[k] = R[j]\n",
    "            j += 1\n",
    "            k += 1\n",
    "\n",
    "def printList(arr):\n",
    "    for i in range(len(arr)):\n",
    "        print(arr[i], end=\" \")\n",
    "    print()"
   ]
  },
  {
   "cell_type": "code",
   "execution_count": 5,
   "id": "bdaa0772",
   "metadata": {},
   "outputs": [
    {
     "name": "stdout",
     "output_type": "stream",
     "text": [
      "Enter array element: 96\n",
      "Enter array element: 91\n",
      "Enter array element: 86\n",
      "Enter array element: 92\n",
      "Enter array element: 28\n",
      "Enter array element: 45\n",
      "Enter array element: 30\n",
      "Enter array element: 1\n",
      "Enter array element: 75\n",
      "Enter array element: 76\n",
      "\n",
      "Sorted Array:\n",
      "\n",
      "1 28 30 45 75 76 86 91 92 96 "
     ]
    }
   ],
   "source": [
    "arr =[]\n",
    "for i in range(10):\n",
    "    n = int(input(\"Enter array element: \"))\n",
    "    arr.append(n)\n",
    "mergeSort(arr)\n",
    "print(\"\\nSorted Array:\\n\")\n",
    "for i in range(len(arr)):\n",
    "    print (arr[i],end=\" \")"
   ]
  },
  {
   "cell_type": "markdown",
   "id": "eaed42eb",
   "metadata": {},
   "source": [
    "# PEEL and LAYER\n",
    "written on my own "
   ]
  },
  {
   "cell_type": "code",
   "execution_count": 2,
   "id": "be642fcf",
   "metadata": {
    "scrolled": true
   },
   "outputs": [
    {
     "name": "stdout",
     "output_type": "stream",
     "text": [
      "Enter grid size: 5\n",
      "'p' for peel and 'l' for Layerl\n",
      "Step 1:\n",
      "* * * * * \n",
      "* * * * * \n",
      "* * * * * \n",
      "* * * * * \n",
      "* * * * * \n",
      "Step 2:\n",
      "* * * * * * * \n",
      "* * * * * * * \n",
      "* * * * * * * \n",
      "* * * * * * * \n",
      "* * * * * * * \n",
      "* * * * * * * \n",
      "* * * * * * * \n",
      "Step 3:\n",
      "* * * * * * * * * \n",
      "* * * * * * * * * \n",
      "* * * * * * * * * \n",
      "* * * * * * * * * \n",
      "* * * * * * * * * \n",
      "* * * * * * * * * \n",
      "* * * * * * * * * \n",
      "* * * * * * * * * \n",
      "* * * * * * * * * \n"
     ]
    }
   ],
   "source": [
    "n = int(input(\"Enter grid size: \"))\n",
    "def peel(n):\n",
    "    a = 1\n",
    "    while n>=-1:\n",
    "        print(\"Step\",a)\n",
    "        for i in range(n):\n",
    "            for i in range(n):\n",
    "                print(\"*\",end=\" \")\n",
    "            print()\n",
    "        print('\\n')\n",
    "        n = n-2\n",
    "        a += 1\n",
    "            \n",
    "def Layer(n):\n",
    "    print(\"Step 1:\")\n",
    "    for i in range(n):\n",
    "        for i in range(n):\n",
    "            print(\"*\",end=\" \")\n",
    "        print()\n",
    "    print(\"Step 2:\")\n",
    "    for i in range(n+2):\n",
    "        for i in range(n+2):\n",
    "            print(\"*\",end=\" \")\n",
    "        print()\n",
    "    print(\"Step 3:\")\n",
    "    for i in range(n+4):\n",
    "        for i in range(n+4):\n",
    "            print(\"*\",end=\" \")\n",
    "        print()\n",
    "\n",
    "s = (input(\"'p' for peel and 'l' for Layer\"))\n",
    "if s == 'p':\n",
    "    peel(n)\n",
    "elif s == 'l':\n",
    "    Layer(n)"
   ]
  }
 ],
 "metadata": {
  "kernelspec": {
   "display_name": "Python 3",
   "language": "python",
   "name": "python3"
  },
  "language_info": {
   "codemirror_mode": {
    "name": "ipython",
    "version": 3
   },
   "file_extension": ".py",
   "mimetype": "text/x-python",
   "name": "python",
   "nbconvert_exporter": "python",
   "pygments_lexer": "ipython3",
   "version": "3.8.8"
  }
 },
 "nbformat": 4,
 "nbformat_minor": 5
}
